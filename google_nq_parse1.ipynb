{
 "cells": [
  {
   "cell_type": "code",
   "execution_count": 1,
   "metadata": {},
   "outputs": [],
   "source": [
    "%load_ext autoreload\n",
    "%autoreload 2\n",
    "\n",
    "%matplotlib inline"
   ]
  },
  {
   "cell_type": "code",
   "execution_count": 2,
   "metadata": {},
   "outputs": [],
   "source": [
    "import json\n",
    "from pathlib import Path"
   ]
  },
  {
   "cell_type": "code",
   "execution_count": 3,
   "metadata": {},
   "outputs": [],
   "source": [
    "path = Path('/data/google_nq/v1.0/train')\n",
    "assert path.exists()"
   ]
  },
  {
   "cell_type": "code",
   "execution_count": 4,
   "metadata": {},
   "outputs": [
    {
     "name": "stdout",
     "output_type": "stream",
     "text": [
      "total 89698580\n",
      "drwxr-xr-x 2 root root       4096 Aug 25 19:30 .\n",
      "drwxr-xr-x 5 root root       4096 Aug 25 16:07 ..\n",
      "-rw-r--r-- 1 root root 5541577648 Aug 25 17:16 nq-train-00.jsonl\n",
      "-rw-r--r-- 1 root root 5770348954 Aug 25 17:17 nq-train-01.jsonl\n",
      "-rw-r--r-- 1 root root 5717125957 Aug 25 17:17 nq-train-02.jsonl\n",
      "-rw-r--r-- 1 root root 5721671722 Aug 25 17:17 nq-train-03.jsonl\n",
      "-rw-r--r-- 1 root root 5748361602 Aug 25 17:16 nq-train-04.jsonl\n",
      "-rw-r--r-- 1 root root 5634916761 Aug 25 17:15 nq-train-05.jsonl\n",
      "-rw-r--r-- 1 root root 5578705699 Aug 25 17:15 nq-train-06.jsonl\n",
      "-rw-r--r-- 1 root root 5392278572 Aug 25 17:15 nq-train-07.jsonl\n",
      "-rw-r--r-- 1 root root 5827270393 Aug 25 17:16 nq-train-08.jsonl\n",
      "-rw-r--r-- 1 root root 5693204718 Aug 25 17:17 nq-train-09.jsonl\n",
      "-rw-r--r-- 1 root root  876311133 Aug 25 17:17 nq-train-10.jsonl.gz\n",
      "-rw-r--r-- 1 root root  878127326 Aug 25 17:16 nq-train-11.jsonl.gz\n",
      "-rw-r--r-- 1 root root  889257016 Aug 25 17:17 nq-train-12.jsonl.gz\n",
      "-rw-r--r-- 1 root root  891769129 Aug 25 17:17 nq-train-13.jsonl.gz\n",
      "-rw-r--r-- 1 root root  892523839 Aug 25 17:17 nq-train-14.jsonl.gz\n",
      "-rw-r--r-- 1 root root  910660095 Aug 25 17:17 nq-train-15.jsonl.gz\n",
      "-rw-r--r-- 1 root root  878177689 Aug 25 17:15 nq-train-16.jsonl.gz\n",
      "-rw-r--r-- 1 root root  872805189 Aug 25 17:14 nq-train-17.jsonl.gz\n",
      "-rw-r--r-- 1 root root  875275428 Aug 25 17:18 nq-train-18.jsonl.gz\n",
      "-rw-r--r-- 1 root root  862034169 Aug 25 17:17 nq-train-19.jsonl.gz\n",
      "-rw-r--r-- 1 root root  887586358 Aug 25 17:17 nq-train-20.jsonl.gz\n",
      "-rw-r--r-- 1 root root  890472815 Aug 25 17:17 nq-train-21.jsonl.gz\n",
      "-rw-r--r-- 1 root root  888396337 Aug 25 17:17 nq-train-22.jsonl.gz\n",
      "-rw-r--r-- 1 root root  900331594 Aug 25 17:17 nq-train-23.jsonl.gz\n",
      "-rw-r--r-- 1 root root  871216444 Aug 25 17:15 nq-train-24.jsonl.gz\n",
      "-rw-r--r-- 1 root root  871166814 Aug 25 17:15 nq-train-25.jsonl.gz\n",
      "-rw-r--r-- 1 root root  903385811 Aug 25 17:18 nq-train-26.jsonl.gz\n",
      "-rw-r--r-- 1 root root  842966594 Aug 25 17:13 nq-train-27.jsonl.gz\n",
      "-rw-r--r-- 1 root root  876393409 Aug 25 17:17 nq-train-28.jsonl.gz\n",
      "-rw-r--r-- 1 root root  872982425 Aug 25 17:15 nq-train-29.jsonl.gz\n",
      "-rw-r--r-- 1 root root  899739217 Aug 25 17:15 nq-train-30.jsonl.gz\n",
      "-rw-r--r-- 1 root root  875703668 Aug 25 17:13 nq-train-31.jsonl.gz\n",
      "-rw-r--r-- 1 root root  895840703 Aug 25 17:17 nq-train-32.jsonl.gz\n",
      "-rw-r--r-- 1 root root  874713497 Aug 25 17:17 nq-train-33.jsonl.gz\n",
      "-rw-r--r-- 1 root root  872620262 Aug 25 17:17 nq-train-34.jsonl.gz\n",
      "-rw-r--r-- 1 root root  854439473 Aug 25 17:16 nq-train-35.jsonl.gz\n",
      "-rw-r--r-- 1 root root  866233094 Aug 25 17:18 nq-train-36.jsonl.gz\n",
      "-rw-r--r-- 1 root root  894411832 Aug 25 17:15 nq-train-37.jsonl.gz\n",
      "-rw-r--r-- 1 root root  879967719 Aug 25 17:16 nq-train-38.jsonl.gz\n",
      "-rw-r--r-- 1 root root  887056754 Aug 25 17:17 nq-train-39.jsonl.gz\n",
      "-rw-r--r-- 1 root root  873720601 Aug 25 17:17 nq-train-40.jsonl.gz\n",
      "-rw-r--r-- 1 root root  880452966 Aug 25 17:16 nq-train-41.jsonl.gz\n",
      "-rw-r--r-- 1 root root  856217171 Aug 25 17:16 nq-train-42.jsonl.gz\n",
      "-rw-r--r-- 1 root root  908184635 Aug 25 17:17 nq-train-43.jsonl.gz\n",
      "-rw-r--r-- 1 root root  891701874 Aug 25 17:17 nq-train-44.jsonl.gz\n",
      "-rw-r--r-- 1 root root  870559738 Aug 25 17:17 nq-train-45.jsonl.gz\n",
      "-rw-r--r-- 1 root root  883791796 Aug 25 17:17 nq-train-46.jsonl.gz\n",
      "-rw-r--r-- 1 root root  882109720 Aug 25 17:18 nq-train-47.jsonl.gz\n",
      "-rw-r--r-- 1 root root  882241605 Aug 25 17:17 nq-train-48.jsonl.gz\n",
      "-rw-r--r-- 1 root root  863247626 Aug 25 17:15 nq-train-49.jsonl.gz\n",
      "-rw-r--r-- 1 root root     751505 Aug 26 16:03 single_line.json\n"
     ]
    }
   ],
   "source": [
    "!ls -la {path}"
   ]
  },
  {
   "cell_type": "code",
   "execution_count": 5,
   "metadata": {},
   "outputs": [],
   "source": [
    "dataset_files = [path/f for f in ['nq-train-00.jsonl', 'nq-train-01.jsonl', 'nq-train-02.jsonl', 'nq-train-03.jsonl', 'nq-train-04.jsonl', 'nq-train-05.jsonl', 'nq-train-06.jsonl', 'nq-train-07.jsonl', 'nq-train-08.jsonl', 'nq-train-09.jsonl']]\n",
    "dataset_file = dataset_files[0]"
   ]
  },
  {
   "cell_type": "code",
   "execution_count": 6,
   "metadata": {},
   "outputs": [
    {
     "name": "stdout",
     "output_type": "stream",
     "text": [
      "5.2G\t/data/google_nq/v1.0/train/nq-train-00.jsonl\n"
     ]
    }
   ],
   "source": [
    "!du -h {dataset_file}"
   ]
  },
  {
   "cell_type": "code",
   "execution_count": 7,
   "metadata": {},
   "outputs": [
    {
     "name": "stdout",
     "output_type": "stream",
     "text": [
      "5961 /data/google_nq/v1.0/train/nq-train-00.jsonl\n"
     ]
    }
   ],
   "source": [
    "!wc -l {dataset_file}"
   ]
  },
  {
   "cell_type": "code",
   "execution_count": 8,
   "metadata": {},
   "outputs": [],
   "source": [
    "# !grep 'who has the best nba record in history' {dataset_file} > {path/'single_line.json'}"
   ]
  },
  {
   "cell_type": "code",
   "execution_count": 9,
   "metadata": {},
   "outputs": [],
   "source": [
    "!head -n 1 {dataset_file} > {path/'single_line.json'}"
   ]
  },
  {
   "cell_type": "code",
   "execution_count": 10,
   "metadata": {},
   "outputs": [],
   "source": [
    "with open(path/'single_line.json') as f:\n",
    "    line = f.readline()"
   ]
  },
  {
   "cell_type": "code",
   "execution_count": 11,
   "metadata": {},
   "outputs": [],
   "source": [
    "line_dict = json.loads(line)"
   ]
  },
  {
   "cell_type": "code",
   "execution_count": 12,
   "metadata": {},
   "outputs": [
    {
     "data": {
      "text/plain": [
       "dict_keys(['annotations', 'document_html', 'document_title', 'document_tokens', 'document_url', 'example_id', 'long_answer_candidates', 'question_text', 'question_tokens'])"
      ]
     },
     "execution_count": 12,
     "metadata": {},
     "output_type": "execute_result"
    }
   ],
   "source": [
    "line_dict.keys()"
   ]
  },
  {
   "cell_type": "code",
   "execution_count": 13,
   "metadata": {},
   "outputs": [
    {
     "data": {
      "text/plain": [
       "('when is the last episode of season 8 of the walking dead',\n",
       " 'The Walking Dead (season 8)',\n",
       " ['when', 'is', 'the', 'last', 'episode'])"
      ]
     },
     "execution_count": 13,
     "metadata": {},
     "output_type": "execute_result"
    }
   ],
   "source": [
    "line_dict['question_text'], line_dict['document_title'], line_dict['question_tokens'][:5]"
   ]
  },
  {
   "cell_type": "code",
   "execution_count": 14,
   "metadata": {},
   "outputs": [
    {
     "data": {
      "text/plain": [
       "[{'annotation_id': 6782080525527814293,\n",
       "  'long_answer': {'candidate_index': 92,\n",
       "   'end_byte': 96948,\n",
       "   'end_token': 3538,\n",
       "   'start_byte': 82798,\n",
       "   'start_token': 2114},\n",
       "  'short_answers': [{'end_byte': 96731,\n",
       "    'end_token': 3525,\n",
       "    'start_byte': 96715,\n",
       "    'start_token': 3521}],\n",
       "  'yes_no_answer': 'NONE'}]"
      ]
     },
     "execution_count": 14,
     "metadata": {},
     "output_type": "execute_result"
    }
   ],
   "source": [
    "line_dict['annotations']"
   ]
  },
  {
   "cell_type": "code",
   "execution_count": 15,
   "metadata": {},
   "outputs": [
    {
     "data": {
      "text/plain": [
       "True"
      ]
     },
     "execution_count": 15,
     "metadata": {},
     "output_type": "execute_result"
    }
   ],
   "source": [
    "import string\n",
    "sss = \"this is a test, again\"\n",
    "\",\" in string.punctuation"
   ]
  },
  {
   "cell_type": "code",
   "execution_count": 16,
   "metadata": {},
   "outputs": [],
   "source": [
    "AMOUNT_SENTENCES = 1\n",
    "\n",
    "def shorten_context(context, answer):\n",
    "    start_pos = context.find(answer)\n",
    "    end_pos = context.find(answer) + len(answer)\n",
    "    sentence_start = 0\n",
    "    start_counter = 0\n",
    "    for i in range(start_pos, -1, -1):\n",
    "        if context[i] == '.':\n",
    "            start_counter += 1\n",
    "            if start_counter >= AMOUNT_SENTENCES:\n",
    "                sentence_start = i + 1\n",
    "                break\n",
    "    sentence_end = len(context)\n",
    "    end_counter = 0\n",
    "    for i in range(end_pos + 1, sentence_end):\n",
    "        if context[i] == '.':\n",
    "            end_counter += 1\n",
    "            if end_counter >= AMOUNT_SENTENCES:\n",
    "                sentence_end = i\n",
    "                break\n",
    "    return context[sentence_start: sentence_end].strip()"
   ]
  },
  {
   "cell_type": "code",
   "execution_count": 17,
   "metadata": {},
   "outputs": [
    {
     "data": {
      "text/plain": [
       "[('when is the last episode of season 8 of the walking dead?',\n",
       "  'March 18 , 2018',\n",
       "  {'answer_start': 193, 'answer_end': 208},\n",
       "  \"109 10 `` The Lost and the Plunderers '' TBA TBA March 4 , 2018 ( 2018 - 03 - 04 ) TBD 110 11 `` Dead or Alive Or '' TBA TBA March 11 , 2018 ( 2018 - 03 - 11 ) TBD 111 12 `` The Key '' TBA TBA March 18 , 2018 ( 2018 - 03 - 18 ) TBD Release ( edit ) The first trailer for the season was released on July 21 , 2017 , at San Diego Comic - Con\")]"
      ]
     },
     "execution_count": 17,
     "metadata": {},
     "output_type": "execute_result"
    }
   ],
   "source": [
    "def create_sentence(array):\n",
    "#     res = \"\"\n",
    "#     for s in reversed(array):\n",
    "#         res =  (\" \" if len(s) > 1 or (s[0] not in string.punctuation or s[0] in ['(', ')', '-']) else \"\") + s + res\n",
    "    sentence = \"\"\n",
    "    for s in array:\n",
    "        sentence += s + \" \"\n",
    "    return sentence.strip()\n",
    "\n",
    "def extract_short_answers(line_dict):\n",
    "    answer_set = set([])\n",
    "    question = line_dict['question_text'] + '?'\n",
    "    context = create_sentence([t['token'] for t in line_dict['document_tokens'] if not t['html_token']])\n",
    "    for anno in line_dict['annotations']:\n",
    "        for sa in anno['short_answers']:\n",
    "            tokens = [t for t in line_dict['document_tokens'][sa['start_token']:sa['end_token']] if not t['html_token']]\n",
    "            answer = create_sentence([t['token'] for t in tokens])\n",
    "            answer_set.add(answer)\n",
    "    final_answers = []\n",
    "    for a in answer_set:\n",
    "        if context.find(a) > -1:\n",
    "            short_context = shorten_context(context, a)\n",
    "            if short_context.find(a) == -1:\n",
    "                continue\n",
    "            final_answers.append((question, a, {'answer_start': short_context.find(a), 'answer_end': short_context.find(a) + len(a)}, short_context))\n",
    "    return final_answers\n",
    "        \n",
    "extract_short_answers(line_dict)"
   ]
  },
  {
   "cell_type": "code",
   "execution_count": 18,
   "metadata": {},
   "outputs": [],
   "source": [
    "def navigate_data(full_data):\n",
    "    answer_ds = []\n",
    "    for i, l in enumerate(full_data):\n",
    "        json_data = json.loads(l)\n",
    "        for extracted in extract_short_answers(json_data):\n",
    "            if len(extracted) > 0:\n",
    "                answer_ds.append(extracted)\n",
    "    return [a for a in answer_ds if len(a[1]) > 0]"
   ]
  },
  {
   "cell_type": "code",
   "execution_count": 19,
   "metadata": {},
   "outputs": [],
   "source": [
    "def check_ds(answer_ds):\n",
    "    count_not_found = []\n",
    "    for i, a in enumerate(answer_ds):\n",
    "        if a[2]['answer_start'] < 0:\n",
    "            count_not_found.append((i, a))\n",
    "        \n",
    "    assert len(count_not_found) == 0"
   ]
  },
  {
   "cell_type": "code",
   "execution_count": 20,
   "metadata": {},
   "outputs": [
    {
     "name": "stdout",
     "output_type": "stream",
     "text": [
      "Processing /data/google_nq/v1.0/train/nq-train-00.jsonl\n",
      "Extracted 2559 records out of 5961\n",
      "Processing /data/google_nq/v1.0/train/nq-train-01.jsonl\n",
      "Extracted 2613 records out of 6138\n",
      "Processing /data/google_nq/v1.0/train/nq-train-02.jsonl\n",
      "Extracted 2658 records out of 6150\n",
      "Processing /data/google_nq/v1.0/train/nq-train-03.jsonl\n",
      "Extracted 2689 records out of 6160\n",
      "Processing /data/google_nq/v1.0/train/nq-train-04.jsonl\n",
      "Extracted 2658 records out of 6223\n",
      "Processing /data/google_nq/v1.0/train/nq-train-05.jsonl\n",
      "Extracted 2531 records out of 6152\n",
      "Processing /data/google_nq/v1.0/train/nq-train-06.jsonl\n",
      "Extracted 2581 records out of 6144\n",
      "Processing /data/google_nq/v1.0/train/nq-train-07.jsonl\n",
      "Extracted 2566 records out of 6074\n",
      "Processing /data/google_nq/v1.0/train/nq-train-08.jsonl\n",
      "Extracted 2700 records out of 6298\n",
      "Processing /data/google_nq/v1.0/train/nq-train-09.jsonl\n",
      "Extracted 2559 records out of 6177\n",
      "CPU times: user 9min 9s, sys: 22 s, total: 9min 31s\n",
      "Wall time: 10min 22s\n"
     ]
    }
   ],
   "source": [
    "%%time\n",
    "\n",
    "full_data = []\n",
    "answer_datasets = []\n",
    "for dataset_f in dataset_files:\n",
    "    print(f'Processing {dataset_f}')\n",
    "    with open(dataset_f) as f:\n",
    "        full_data = f.readlines()\n",
    "        answer_ds = navigate_data(full_data)\n",
    "        check_ds(answer_ds)\n",
    "        print(f'Extracted {len(answer_ds)} records out of {len(full_data)}')\n",
    "        answer_datasets += answer_ds"
   ]
  },
  {
   "cell_type": "code",
   "execution_count": 21,
   "metadata": {},
   "outputs": [
    {
     "data": {
      "text/plain": [
       "26114"
      ]
     },
     "execution_count": 21,
     "metadata": {},
     "output_type": "execute_result"
    }
   ],
   "source": [
    "len(answer_datasets)"
   ]
  },
  {
   "cell_type": "code",
   "execution_count": 22,
   "metadata": {},
   "outputs": [],
   "source": [
    "import pickle\n",
    "\n",
    "pickle.dump( answer_datasets, open( \"answers.pkl\", \"wb\" ) )"
   ]
  },
  {
   "cell_type": "code",
   "execution_count": 23,
   "metadata": {},
   "outputs": [
    {
     "name": "stdout",
     "output_type": "stream",
     "text": [
      "14M\tanswers.pkl\n"
     ]
    }
   ],
   "source": [
    "!du -h answers.pkl"
   ]
  },
  {
   "cell_type": "code",
   "execution_count": null,
   "metadata": {},
   "outputs": [],
   "source": []
  }
 ],
 "metadata": {
  "kernelspec": {
   "display_name": "Python 3",
   "language": "python",
   "name": "python3"
  },
  "language_info": {
   "codemirror_mode": {
    "name": "ipython",
    "version": 3
   },
   "file_extension": ".py",
   "mimetype": "text/x-python",
   "name": "python",
   "nbconvert_exporter": "python",
   "pygments_lexer": "ipython3",
   "version": "3.7.7"
  }
 },
 "nbformat": 4,
 "nbformat_minor": 4
}
