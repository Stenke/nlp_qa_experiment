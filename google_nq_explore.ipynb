{
 "cells": [
  {
   "cell_type": "code",
   "execution_count": 1,
   "metadata": {},
   "outputs": [],
   "source": [
    "%load_ext autoreload\n",
    "%autoreload 2\n",
    "\n",
    "%matplotlib inline"
   ]
  },
  {
   "cell_type": "code",
   "execution_count": 2,
   "metadata": {},
   "outputs": [],
   "source": [
    "import json\n",
    "from pathlib import Path"
   ]
  },
  {
   "cell_type": "code",
   "execution_count": 3,
   "metadata": {},
   "outputs": [],
   "source": [
    "path = Path('/data/google_nq/v1.0/train')\n",
    "assert path.exists()"
   ]
  },
  {
   "cell_type": "code",
   "execution_count": 4,
   "metadata": {},
   "outputs": [
    {
     "name": "stdout",
     "output_type": "stream",
     "text": [
      "total 89698580\n",
      "drwxr-xr-x 2 root root       4096 Aug 25 19:30 .\n",
      "drwxr-xr-x 5 root root       4096 Aug 25 16:07 ..\n",
      "-rw-r--r-- 1 root root 5541577648 Aug 25 17:16 nq-train-00.jsonl\n",
      "-rw-r--r-- 1 root root 5770348954 Aug 25 17:17 nq-train-01.jsonl\n",
      "-rw-r--r-- 1 root root 5717125957 Aug 25 17:17 nq-train-02.jsonl\n",
      "-rw-r--r-- 1 root root 5721671722 Aug 25 17:17 nq-train-03.jsonl\n",
      "-rw-r--r-- 1 root root 5748361602 Aug 25 17:16 nq-train-04.jsonl\n",
      "-rw-r--r-- 1 root root 5634916761 Aug 25 17:15 nq-train-05.jsonl\n",
      "-rw-r--r-- 1 root root 5578705699 Aug 25 17:15 nq-train-06.jsonl\n",
      "-rw-r--r-- 1 root root 5392278572 Aug 25 17:15 nq-train-07.jsonl\n",
      "-rw-r--r-- 1 root root 5827270393 Aug 25 17:16 nq-train-08.jsonl\n",
      "-rw-r--r-- 1 root root 5693204718 Aug 25 17:17 nq-train-09.jsonl\n",
      "-rw-r--r-- 1 root root  876311133 Aug 25 17:17 nq-train-10.jsonl.gz\n",
      "-rw-r--r-- 1 root root  878127326 Aug 25 17:16 nq-train-11.jsonl.gz\n",
      "-rw-r--r-- 1 root root  889257016 Aug 25 17:17 nq-train-12.jsonl.gz\n",
      "-rw-r--r-- 1 root root  891769129 Aug 25 17:17 nq-train-13.jsonl.gz\n",
      "-rw-r--r-- 1 root root  892523839 Aug 25 17:17 nq-train-14.jsonl.gz\n",
      "-rw-r--r-- 1 root root  910660095 Aug 25 17:17 nq-train-15.jsonl.gz\n",
      "-rw-r--r-- 1 root root  878177689 Aug 25 17:15 nq-train-16.jsonl.gz\n",
      "-rw-r--r-- 1 root root  872805189 Aug 25 17:14 nq-train-17.jsonl.gz\n",
      "-rw-r--r-- 1 root root  875275428 Aug 25 17:18 nq-train-18.jsonl.gz\n",
      "-rw-r--r-- 1 root root  862034169 Aug 25 17:17 nq-train-19.jsonl.gz\n",
      "-rw-r--r-- 1 root root  887586358 Aug 25 17:17 nq-train-20.jsonl.gz\n",
      "-rw-r--r-- 1 root root  890472815 Aug 25 17:17 nq-train-21.jsonl.gz\n",
      "-rw-r--r-- 1 root root  888396337 Aug 25 17:17 nq-train-22.jsonl.gz\n",
      "-rw-r--r-- 1 root root  900331594 Aug 25 17:17 nq-train-23.jsonl.gz\n",
      "-rw-r--r-- 1 root root  871216444 Aug 25 17:15 nq-train-24.jsonl.gz\n",
      "-rw-r--r-- 1 root root  871166814 Aug 25 17:15 nq-train-25.jsonl.gz\n",
      "-rw-r--r-- 1 root root  903385811 Aug 25 17:18 nq-train-26.jsonl.gz\n",
      "-rw-r--r-- 1 root root  842966594 Aug 25 17:13 nq-train-27.jsonl.gz\n",
      "-rw-r--r-- 1 root root  876393409 Aug 25 17:17 nq-train-28.jsonl.gz\n",
      "-rw-r--r-- 1 root root  872982425 Aug 25 17:15 nq-train-29.jsonl.gz\n",
      "-rw-r--r-- 1 root root  899739217 Aug 25 17:15 nq-train-30.jsonl.gz\n",
      "-rw-r--r-- 1 root root  875703668 Aug 25 17:13 nq-train-31.jsonl.gz\n",
      "-rw-r--r-- 1 root root  895840703 Aug 25 17:17 nq-train-32.jsonl.gz\n",
      "-rw-r--r-- 1 root root  874713497 Aug 25 17:17 nq-train-33.jsonl.gz\n",
      "-rw-r--r-- 1 root root  872620262 Aug 25 17:17 nq-train-34.jsonl.gz\n",
      "-rw-r--r-- 1 root root  854439473 Aug 25 17:16 nq-train-35.jsonl.gz\n",
      "-rw-r--r-- 1 root root  866233094 Aug 25 17:18 nq-train-36.jsonl.gz\n",
      "-rw-r--r-- 1 root root  894411832 Aug 25 17:15 nq-train-37.jsonl.gz\n",
      "-rw-r--r-- 1 root root  879967719 Aug 25 17:16 nq-train-38.jsonl.gz\n",
      "-rw-r--r-- 1 root root  887056754 Aug 25 17:17 nq-train-39.jsonl.gz\n",
      "-rw-r--r-- 1 root root  873720601 Aug 25 17:17 nq-train-40.jsonl.gz\n",
      "-rw-r--r-- 1 root root  880452966 Aug 25 17:16 nq-train-41.jsonl.gz\n",
      "-rw-r--r-- 1 root root  856217171 Aug 25 17:16 nq-train-42.jsonl.gz\n",
      "-rw-r--r-- 1 root root  908184635 Aug 25 17:17 nq-train-43.jsonl.gz\n",
      "-rw-r--r-- 1 root root  891701874 Aug 25 17:17 nq-train-44.jsonl.gz\n",
      "-rw-r--r-- 1 root root  870559738 Aug 25 17:17 nq-train-45.jsonl.gz\n",
      "-rw-r--r-- 1 root root  883791796 Aug 25 17:17 nq-train-46.jsonl.gz\n",
      "-rw-r--r-- 1 root root  882109720 Aug 25 17:18 nq-train-47.jsonl.gz\n",
      "-rw-r--r-- 1 root root  882241605 Aug 25 17:17 nq-train-48.jsonl.gz\n",
      "-rw-r--r-- 1 root root  863247626 Aug 25 17:15 nq-train-49.jsonl.gz\n",
      "-rw-r--r-- 1 root root     751505 Aug 25 19:30 single_line.json\n"
     ]
    }
   ],
   "source": [
    "!ls -la {path}"
   ]
  },
  {
   "cell_type": "code",
   "execution_count": 5,
   "metadata": {},
   "outputs": [],
   "source": [
    "dataset_files = [path/f for f in ['nq-train-00.jsonl', 'nq-train-01.jsonl', 'nq-train-02.jsonl', 'nq-train-03.jsonl', 'nq-train-04.jsonl', 'nq-train-05.jsonl', 'nq-train-06.jsonl', 'nq-train-07.jsonl', 'nq-train-08.jsonl', 'nq-train-09.jsonl']]\n",
    "dataset_file = dataset_files[0]"
   ]
  },
  {
   "cell_type": "code",
   "execution_count": 6,
   "metadata": {},
   "outputs": [
    {
     "name": "stdout",
     "output_type": "stream",
     "text": [
      "5.2G\t/data/google_nq/v1.0/train/nq-train-00.jsonl\n"
     ]
    }
   ],
   "source": [
    "!du -h {dataset_file}"
   ]
  },
  {
   "cell_type": "code",
   "execution_count": 7,
   "metadata": {},
   "outputs": [
    {
     "name": "stdout",
     "output_type": "stream",
     "text": [
      "5961 /data/google_nq/v1.0/train/nq-train-00.jsonl\n"
     ]
    }
   ],
   "source": [
    "!wc -l {dataset_file}"
   ]
  },
  {
   "cell_type": "code",
   "execution_count": 8,
   "metadata": {},
   "outputs": [],
   "source": [
    "!head -n 1 {dataset_file} > {path/'single_line.json'}"
   ]
  },
  {
   "cell_type": "code",
   "execution_count": 9,
   "metadata": {},
   "outputs": [],
   "source": [
    "with open(path/'single_line.json') as f:\n",
    "    line = f.readline()"
   ]
  },
  {
   "cell_type": "code",
   "execution_count": 10,
   "metadata": {},
   "outputs": [],
   "source": [
    "line_dict = json.loads(line)"
   ]
  },
  {
   "cell_type": "code",
   "execution_count": 11,
   "metadata": {},
   "outputs": [
    {
     "data": {
      "text/plain": [
       "dict_keys(['annotations', 'document_html', 'document_title', 'document_tokens', 'document_url', 'example_id', 'long_answer_candidates', 'question_text', 'question_tokens'])"
      ]
     },
     "execution_count": 11,
     "metadata": {},
     "output_type": "execute_result"
    }
   ],
   "source": [
    "line_dict.keys()"
   ]
  },
  {
   "cell_type": "code",
   "execution_count": 12,
   "metadata": {},
   "outputs": [
    {
     "data": {
      "text/plain": [
       "'when is the last episode of season 8 of the walking dead'"
      ]
     },
     "execution_count": 12,
     "metadata": {},
     "output_type": "execute_result"
    }
   ],
   "source": [
    "line_dict['question_text']"
   ]
  },
  {
   "cell_type": "code",
   "execution_count": 13,
   "metadata": {},
   "outputs": [
    {
     "data": {
      "text/plain": [
       "[{'annotation_id': 6782080525527814293,\n",
       "  'long_answer': {'candidate_index': 92,\n",
       "   'end_byte': 96948,\n",
       "   'end_token': 3538,\n",
       "   'start_byte': 82798,\n",
       "   'start_token': 2114},\n",
       "  'short_answers': [{'end_byte': 96731,\n",
       "    'end_token': 3525,\n",
       "    'start_byte': 96715,\n",
       "    'start_token': 3521}],\n",
       "  'yes_no_answer': 'NONE'}]"
      ]
     },
     "execution_count": 13,
     "metadata": {},
     "output_type": "execute_result"
    }
   ],
   "source": [
    "line_dict['annotations']"
   ]
  },
  {
   "cell_type": "code",
   "execution_count": 14,
   "metadata": {},
   "outputs": [],
   "source": [
    "# line_dict['document_tokens']"
   ]
  },
  {
   "cell_type": "code",
   "execution_count": 15,
   "metadata": {},
   "outputs": [
    {
     "data": {
      "text/plain": [
       "[{'annotation_id': 6782080525527814293,\n",
       "  'long_answer': {'candidate_index': 92,\n",
       "   'end_byte': 96948,\n",
       "   'end_token': 3538,\n",
       "   'start_byte': 82798,\n",
       "   'start_token': 2114},\n",
       "  'short_answers': [{'end_byte': 96731,\n",
       "    'end_token': 3525,\n",
       "    'start_byte': 96715,\n",
       "    'start_token': 3521}],\n",
       "  'yes_no_answer': 'NONE'}]"
      ]
     },
     "execution_count": 15,
     "metadata": {},
     "output_type": "execute_result"
    }
   ],
   "source": [
    "line_dict['annotations']"
   ]
  },
  {
   "cell_type": "code",
   "execution_count": 16,
   "metadata": {},
   "outputs": [],
   "source": [
    "# with open('sample.html', 'w') as f:\n",
    "#     f.write(json.loads(full_data[5])['document_html'])"
   ]
  },
  {
   "cell_type": "code",
   "execution_count": 17,
   "metadata": {},
   "outputs": [
    {
     "data": {
      "text/plain": [
       "[('when is the last episode of season 8 of the walking dead?',\n",
       "  'March 18 , 2018',\n",
       "  {'answer_start': 6052, 'answer_end': 6067},\n",
       "  \"No . overall No. in season Title Directed by Written by Original air date U.S. viewers ( millions ) 100 `` Mercy '' Greg Nicotero Scott M. Gimple October 22 , 2017 ( 2017 - 10 - 22 ) 11.44 Rick , Maggie , and Ezekiel rally their communities together to take down Negan . Gregory attempts to have the Hilltop residents side with Negan , but they all firmly stand behind Maggie . The group attacks the Sanctuary , taking down its fences and flooding the compound with walkers . With the Sanctuary defaced , everyone leaves except Gabriel , who reluctantly stays to save Gregory , but is left behind when Gregory abandons him . Surrounded by walkers , Gabriel hides in a trailer , where he is trapped inside with Negan . 101 `` The Damned '' Rosemary Rodriguez Matthew Negrete & Channing Powell October 29 , 2017 ( 2017 - 10 - 29 ) 8.92 Rick 's forces split into separate parties to attack several of the Saviors ' outposts , during which many members of the group are killed ; Eric is critically injured and rushed away by Aaron . Jesus stops Tara and Morgan from executing a group of surrendered Saviors . While clearing an outpost with Daryl , Rick is confronted and held at gunpoint by Morales , a survivor he met in the initial Atlanta camp , who is now with the Saviors . 102 `` Monsters '' Greg Nicotero Matthew Negrete & Channing Powell November 5 , 2017 ( 2017 - 11 - 05 ) 8.52 Daryl finds Morales threatening Rick and kills him ; the duo then pursue a group of Saviors who are transporting weapons to another outpost . Gregory returns to Hilltop , and after a heated argument , Maggie ultimately allows him back in the community . Eric dies from his injuries , leaving Aaron distraught . Despite Tara and Morgan 's objections , Jesus leads the group of surrendered Saviors to Hilltop . Ezekiel 's group attacks another Savior compound , during which several Kingdommers are shot while protecting Ezekiel . 103 `` Some Guy '' Dan Liu David Leslie Johnson November 12 , 2017 ( 2017 - 11 - 12 ) 8.69 Ezekiel 's group is overwhelmed by the Saviors , who kill all of them except for Ezekiel himself and Jerry . Carol clears the inside of the compound , killing all but two Saviors , who almost escape but are eventually caught by Rick and Daryl . En route to the Kingdom , Ezekiel , Jerry , and Carol are surrounded by walkers , but Shiva sacrifices herself to save them . The trio returns to the Kingdom , where Ezekiel 's confidence in himself as a leader has diminished . 104 5 `` The Big Scary U '' Michael E. Satrazemis Story by : Scott M. Gimple & David Leslie Johnson & Angela Kang Teleplay by : David Leslie Johnson & Angela Kang November 19 , 2017 ( 2017 - 11 - 19 ) 7.85 After confessing their sins to each other , Gabriel and Negan manage to escape from the trailer . Simon and the other lieutenants grow suspicious of each other , knowing that Rick 's forces must have inside information . The workers in the Sanctuary become increasingly frustrated with their living conditions , and a riot nearly ensues , until Negan returns and restores order . Gabriel is locked in a cell , where Eugene discovers him sick and suffering . Meanwhile , Rick and Daryl argue over how to take out the Saviors , leading Daryl to abandon Rick . 105 6 `` The King , the Widow , and Rick '' John Polson Angela Kang & Corey Reed November 26 , 2017 ( 2017 - 11 - 26 ) 8.28 Rick visits Jadis in hopes of convincing her to turn against Negan ; Jadis refuses , and locks Rick in a shipping container . Carl encounters Siddiq in the woods and recruits him to Alexandria . Daryl and Tara plot to deviate from Rick 's plans by destroying the Sanctuary . Ezekiel isolates himself at the Kingdom , where Carol tries to encourage him to be the leader his people need . Maggie has the group of captured Saviors placed in a holding area and forces Gregory to join them as punishment for betraying Hilltop . 106 7 `` Time for After '' Larry Teng Matthew Negrete & Corey Reed December 3 , 2017 ( 2017 - 12 - 03 ) 7.47 After learning of Dwight 's association with Rick 's group , Eugene affirms his loyalty to Negan and outlines a plan to get rid of the walkers surrounding the Sanctuary . With help from Morgan and Tara , Daryl drives a truck through the Sanctuary 's walls , flooding its interior with walkers , killing many Saviors . Rick finally convinces Jadis and the Scavengers to align with him , and they plan to force the Saviors to surrender . However , when they arrive at the Sanctuary , Rick is horrified to see the breached walls and no sign of the walker herd . 107 8 `` How It 's Gotta Be '' Michael E. Satrazemis David Leslie Johnson & Angela Kang December 10 , 2017 ( 2017 - 12 - 10 ) 7.89 Eugene 's plan allows the Saviors to escape , and separately , the Saviors waylay the Alexandria , Hilltop , and Kingdom forces . The Scavengers abandon Rick , after which he returns to Alexandria . Ezekiel ensures that the Kingdom residents are able to escape before locking himself in the community with the Saviors . Eugene aids Gabriel and Doctor Carson in escaping the Sanctuary in order to ease his conscience . Negan attacks Alexandria , but Carl devises a plan to allow the Alexandria residents to escape into the sewers . Carl reveals he was bitten by a walker while escorting Siddiq to Alexandria . 108 9 `` Honor '' Greg Nicotero Matthew Negrete & Channing Powell February 25 , 2018 ( 2018 - 02 - 25 ) 8.28 After the Saviors leave Alexandria , the survivors make for the Hilltop while Rick and Michonne stay behind to say their final goodbyes to a dying Carl , who pleads with Rick to build a better future alongside the Saviors before killing himself . In the Kingdom , Morgan and Carol launch a rescue mission for Ezekiel . Although they are successful and retake the Kingdom , the Saviors ' lieutenant Gavin is killed by Benjamin 's vengeful brother Henry . 109 10 `` The Lost and the Plunderers '' TBA TBA March 4 , 2018 ( 2018 - 03 - 04 ) TBD 110 11 `` Dead or Alive Or '' TBA TBA March 11 , 2018 ( 2018 - 03 - 11 ) TBD 111 12 `` The Key '' TBA TBA March 18 , 2018 ( 2018 - 03 - 18 ) TBD \")]"
      ]
     },
     "execution_count": 17,
     "metadata": {},
     "output_type": "execute_result"
    }
   ],
   "source": [
    "def extract_answer(line_dict):\n",
    "    answer_set = set([])\n",
    "    for la in line_dict['annotations']:\n",
    "        long_answer = la['long_answer']\n",
    "        start_byte = long_answer['start_byte']\n",
    "        end_byte = long_answer['end_byte']\n",
    "        long_answer_content = \"\"\n",
    "        for l in line_dict['document_tokens']:\n",
    "            if l['start_byte'] >= start_byte and l['end_byte'] <= end_byte and l['html_token'] is False:\n",
    "                 long_answer_content += l['token'] + \" \"\n",
    "        short_answers = la['short_answers']\n",
    "        for short_answer in short_answers:\n",
    "            start_byte = short_answer['start_byte']\n",
    "            end_byte = short_answer['end_byte']\n",
    "            answer = \"\"\n",
    "            for l in line_dict['document_tokens']:\n",
    "                if l['start_byte'] >= start_byte and l['end_byte'] <= end_byte and l['html_token'] is False:\n",
    "                    answer += l['token'] + \" \"\n",
    "            answer_set.add(answer.strip())\n",
    "    \n",
    "    return [(line_dict['question_text'] + '?', a, {'answer_start': long_answer_content.find(a), 'answer_end': long_answer_content.find(a) + len(a)}, long_answer_content) for a in answer_set if long_answer_content.find(a) > -1]\n",
    "\n",
    "extract_answer(line_dict)"
   ]
  },
  {
   "cell_type": "code",
   "execution_count": 18,
   "metadata": {},
   "outputs": [],
   "source": [
    "def navigate_data(full_data):\n",
    "    answer_ds = []\n",
    "    for i, l in enumerate(full_data):\n",
    "        json_data = json.loads(l)\n",
    "        for extracted in extract_answer(json_data):\n",
    "            answer_ds.append(extracted)\n",
    "    return [a for a in answer_ds if len(a[1]) > 0]\n",
    "            \n"
   ]
  },
  {
   "cell_type": "code",
   "execution_count": 19,
   "metadata": {},
   "outputs": [],
   "source": [
    "def check_ds(answer_ds):\n",
    "    count_not_found = []\n",
    "    for i, a in enumerate(answer_ds):\n",
    "        if a[2]['answer_start'] < 0:\n",
    "            count_not_found.append((i, a))\n",
    "\n",
    "    assert len(count_not_found) == 0"
   ]
  },
  {
   "cell_type": "code",
   "execution_count": 20,
   "metadata": {},
   "outputs": [
    {
     "name": "stdout",
     "output_type": "stream",
     "text": [
      "Processing /data/google_nq/v1.0/train/nq-train-00.jsonl\n",
      "Processing /data/google_nq/v1.0/train/nq-train-01.jsonl\n",
      "Processing /data/google_nq/v1.0/train/nq-train-02.jsonl\n",
      "Processing /data/google_nq/v1.0/train/nq-train-03.jsonl\n",
      "Processing /data/google_nq/v1.0/train/nq-train-04.jsonl\n",
      "Processing /data/google_nq/v1.0/train/nq-train-05.jsonl\n",
      "Processing /data/google_nq/v1.0/train/nq-train-06.jsonl\n",
      "Processing /data/google_nq/v1.0/train/nq-train-07.jsonl\n",
      "Processing /data/google_nq/v1.0/train/nq-train-08.jsonl\n",
      "Processing /data/google_nq/v1.0/train/nq-train-09.jsonl\n",
      "CPU times: user 8min 45s, sys: 22.5 s, total: 9min 7s\n",
      "Wall time: 9min 58s\n"
     ]
    }
   ],
   "source": [
    "%%time\n",
    "\n",
    "full_data = []\n",
    "answer_datasets = []\n",
    "for dataset_f in dataset_files:\n",
    "    print(f'Processing {dataset_f}')\n",
    "    with open(dataset_f) as f:\n",
    "        full_data = f.readlines()\n",
    "        answer_ds = navigate_data(full_data)\n",
    "        check_ds(answer_ds)\n",
    "        answer_datasets += answer_ds"
   ]
  },
  {
   "cell_type": "code",
   "execution_count": 21,
   "metadata": {},
   "outputs": [
    {
     "data": {
      "text/plain": [
       "26121"
      ]
     },
     "execution_count": 21,
     "metadata": {},
     "output_type": "execute_result"
    }
   ],
   "source": [
    "len(answer_datasets)"
   ]
  },
  {
   "cell_type": "code",
   "execution_count": 22,
   "metadata": {},
   "outputs": [],
   "source": [
    "import pickle\n",
    "\n",
    "pickle.dump( answer_datasets, open( \"answers.pkl\", \"wb\" ) )"
   ]
  },
  {
   "cell_type": "code",
   "execution_count": 23,
   "metadata": {},
   "outputs": [
    {
     "name": "stdout",
     "output_type": "stream",
     "text": [
      "27M\tanswers.pkl\n"
     ]
    }
   ],
   "source": [
    "!du -h answers.pkl"
   ]
  },
  {
   "cell_type": "code",
   "execution_count": null,
   "metadata": {},
   "outputs": [],
   "source": []
  }
 ],
 "metadata": {
  "kernelspec": {
   "display_name": "Python 3",
   "language": "python",
   "name": "python3"
  },
  "language_info": {
   "codemirror_mode": {
    "name": "ipython",
    "version": 3
   },
   "file_extension": ".py",
   "mimetype": "text/x-python",
   "name": "python",
   "nbconvert_exporter": "python",
   "pygments_lexer": "ipython3",
   "version": "3.7.7"
  }
 },
 "nbformat": 4,
 "nbformat_minor": 4
}
