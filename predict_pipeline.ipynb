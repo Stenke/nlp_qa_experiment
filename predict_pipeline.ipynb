{
 "cells": [
  {
   "cell_type": "code",
   "execution_count": 1,
   "metadata": {},
   "outputs": [],
   "source": [
    "%load_ext autoreload\n",
    "%autoreload 2"
   ]
  },
  {
   "cell_type": "code",
   "execution_count": 2,
   "metadata": {},
   "outputs": [],
   "source": [
    "from transformers import pipeline\n",
    "from transformers import AutoTokenizer, AutoModelForQuestionAnswering\n",
    "from transformers import BertConfig\n",
    "from pathlib import Path"
   ]
  },
  {
   "cell_type": "code",
   "execution_count": 3,
   "metadata": {},
   "outputs": [],
   "source": [
    "PRE_TRAINED_MODEL_NAME = \"distilbert-base-uncased\"\n",
    "MODEL_PATH = f'./google_nq_{PRE_TRAINED_MODEL_NAME}'"
   ]
  },
  {
   "cell_type": "code",
   "execution_count": 4,
   "metadata": {},
   "outputs": [],
   "source": [
    "tokenizer = AutoTokenizer.from_pretrained(MODEL_PATH)\n",
    "model = AutoModelForQuestionAnswering.from_pretrained(MODEL_PATH)"
   ]
  },
  {
   "cell_type": "code",
   "execution_count": 5,
   "metadata": {},
   "outputs": [],
   "source": [
    "nlp_qa = pipeline('question-answering', model=model, tokenizer=tokenizer)\n",
    "# nlp_qa = pipeline('question-answering', model='distilbert-base-cased-distilled-squad', tokenizer='distilbert-base-cased')\n",
    "# nlp_qa = pipeline('question-answering', model='distilbert-base-cased', tokenizer='distilbert-base-cased')"
   ]
  },
  {
   "cell_type": "code",
   "execution_count": 6,
   "metadata": {},
   "outputs": [
    {
     "data": {
      "text/plain": [
       "{'score': 0.8315569934855912, 'start': 42, 'end': 50, 'answer': 'New-York.'}"
      ]
     },
     "execution_count": 6,
     "metadata": {},
     "output_type": "execute_result"
    }
   ],
   "source": [
    "nlp_qa(context='Hugging Face is a French company based in New-York.', question='Where is Hugging Face based?')"
   ]
  },
  {
   "cell_type": "code",
   "execution_count": 7,
   "metadata": {},
   "outputs": [
    {
     "data": {
      "text/plain": [
       "{'score': 0.6156002281697633, 'start': 43, 'end': 49, 'answer': 'London.'}"
      ]
     },
     "execution_count": 7,
     "metadata": {},
     "output_type": "execute_result"
    }
   ],
   "source": [
    "nlp_qa(context='Gil Fernandes is a programmer who lives in London.', question='Where does Gil Fernandes live?')"
   ]
  },
  {
   "cell_type": "code",
   "execution_count": 8,
   "metadata": {},
   "outputs": [
    {
     "data": {
      "text/plain": [
       "{'score': 0.9124416815325798, 'start': 0, 'end': 13, 'answer': 'Gil Fernandes'}"
      ]
     },
     "execution_count": 8,
     "metadata": {},
     "output_type": "execute_result"
    }
   ],
   "source": [
    "nlp_qa(context='Gil Fernandes is a programmer who lives in London.', question='Who is a programmer?')"
   ]
  },
  {
   "cell_type": "code",
   "execution_count": 9,
   "metadata": {},
   "outputs": [
    {
     "data": {
      "text/plain": [
       "{'score': 0.6634870845169256, 'start': 43, 'end': 49, 'answer': 'London.'}"
      ]
     },
     "execution_count": 9,
     "metadata": {},
     "output_type": "execute_result"
    }
   ],
   "source": [
    "nlp_qa(context='Gil Fernandes is a programmer who lives in London.', question='Where is Gil Fernandes?')"
   ]
  },
  {
   "cell_type": "code",
   "execution_count": 10,
   "metadata": {},
   "outputs": [
    {
     "data": {
      "text/plain": [
       "{'score': 0.30420376368570695,\n",
       " 'start': 36,\n",
       " 'end': 58,\n",
       " 'answer': 'the “land of promise,”'}"
      ]
     },
     "execution_count": 10,
     "metadata": {},
     "output_type": "execute_result"
    }
   ],
   "source": [
    "nlp_qa(context='Monday night’s theme was officially the “land of promise,” but the collection of speeches offered an almost apocalyptic vision of what’s at stake in November’s elections, and a dizzying array of misleading claims.', \n",
    "       question='What was Monday night’s theme?')"
   ]
  },
  {
   "cell_type": "code",
   "execution_count": 11,
   "metadata": {},
   "outputs": [
    {
     "data": {
      "text/plain": [
       "{'score': 0.2819992625080783,\n",
       " 'start': 36,\n",
       " 'end': 58,\n",
       " 'answer': 'the “land of promise,”'}"
      ]
     },
     "execution_count": 11,
     "metadata": {},
     "output_type": "execute_result"
    }
   ],
   "source": [
    "nlp_qa(context='Monday night’s theme was officially the “land of promise,” but the collection of speeches offered an almost apocalyptic vision of what’s at stake in November’s elections, and a dizzying array of misleading claims.', \n",
    "       question=\"Which apocalyptic vision?\")"
   ]
  },
  {
   "cell_type": "code",
   "execution_count": 12,
   "metadata": {},
   "outputs": [
    {
     "data": {
      "text/plain": [
       "{'score': 0.23020508133237572,\n",
       " 'start': 36,\n",
       " 'end': 58,\n",
       " 'answer': 'the “land of promise,”'}"
      ]
     },
     "execution_count": 12,
     "metadata": {},
     "output_type": "execute_result"
    }
   ],
   "source": [
    "nlp_qa(context='Monday night’s theme was officially the “land of promise,” but the collection of speeches offered an almost apocalyptic vision of what’s at stake in November’s elections, and a dizzying array of misleading claims.', \n",
    "       question=\"What did the speeches offer?\")"
   ]
  },
  {
   "cell_type": "code",
   "execution_count": 13,
   "metadata": {},
   "outputs": [
    {
     "data": {
      "text/plain": [
       "{'score': 0.01684415253427643,\n",
       " 'start': 20,\n",
       " 'end': 60,\n",
       " 'answer': \"planning legal action against Thailand's\"}"
      ]
     },
     "execution_count": 13,
     "metadata": {},
     "output_type": "execute_result"
    }
   ],
   "source": [
    "nlp_qa(context=\"Facebook said it is planning legal action against Thailand's demand that forced the company to block a group deemed critical of the country's monarchy.\", question=\"What said Facebook?\")"
   ]
  },
  {
   "cell_type": "code",
   "execution_count": 14,
   "metadata": {},
   "outputs": [
    {
     "data": {
      "text/plain": [
       "{'score': 0.025539295418060416,\n",
       " 'start': 20,\n",
       " 'end': 60,\n",
       " 'answer': \"planning legal action against Thailand's\"}"
      ]
     },
     "execution_count": 14,
     "metadata": {},
     "output_type": "execute_result"
    }
   ],
   "source": [
    "nlp_qa(context=\"Facebook said it is planning legal action against Thailand's demand that forced the company to block a group deemed critical of the country's monarchy.\", question=\"What did Facebook say?\")"
   ]
  },
  {
   "cell_type": "code",
   "execution_count": 15,
   "metadata": {},
   "outputs": [
    {
     "data": {
      "text/plain": [
       "{'score': 0.08827431210054877,\n",
       " 'start': 35,\n",
       " 'end': 97,\n",
       " 'answer': 'an image captioning system works and implement one from scratch'}"
      ]
     },
     "execution_count": 15,
     "metadata": {},
     "output_type": "execute_result"
    }
   ],
   "source": [
    "nlp_qa(context=\"In this tutorial we go through how an image captioning system works and implement one from scratch\", question=\"What is the topic of this tutorial?\")"
   ]
  },
  {
   "cell_type": "code",
   "execution_count": 16,
   "metadata": {},
   "outputs": [
    {
     "data": {
      "text/plain": [
       "{'score': 0.10767214967243055,\n",
       " 'start': 35,\n",
       " 'end': 97,\n",
       " 'answer': 'an image captioning system works and implement one from scratch'}"
      ]
     },
     "execution_count": 16,
     "metadata": {},
     "output_type": "execute_result"
    }
   ],
   "source": [
    "nlp_qa(context=\"In this tutorial we go through how an image captioning system works and implement one from scratch\", question=\"What is this tutorial about?\")"
   ]
  },
  {
   "cell_type": "code",
   "execution_count": 18,
   "metadata": {},
   "outputs": [
    {
     "data": {
      "text/plain": [
       "{'score': 0.06542564499556147,\n",
       " 'start': 36,\n",
       " 'end': 103,\n",
       " 'answer': 'a short honeymoon period before they were at loggerheads over Brexit'}"
      ]
     },
     "execution_count": 18,
     "metadata": {},
     "output_type": "execute_result"
    }
   ],
   "source": [
    "nlp_qa(context=\"the members and leader enjoyed only a short honeymoon period before they were at loggerheads over Brexit.\",\n",
    "      question=\"What did the members and leader enjoy?\")"
   ]
  },
  {
   "cell_type": "code",
   "execution_count": 19,
   "metadata": {},
   "outputs": [
    {
     "data": {
      "text/plain": [
       "{'score': 0.01833547217185892,\n",
       " 'start': 93,\n",
       " 'end': 135,\n",
       " 'answer': 'the ghost of the leader they want him to be'}"
      ]
     },
     "execution_count": 19,
     "metadata": {},
     "output_type": "execute_result"
    }
   ],
   "source": [
    "nlp_qa(context=\"The temptation for Starmer will be to move with enough subtlety that everyone can see in him the ghost of the leader they want him to be\",\n",
    "      question=\"Which is Starmer's temptation?\")"
   ]
  },
  {
   "cell_type": "code",
   "execution_count": 20,
   "metadata": {},
   "outputs": [
    {
     "data": {
      "text/plain": [
       "{'score': 0.23087397733700213, 'start': 10, 'end': 15, 'answer': 'Laura'}"
      ]
     },
     "execution_count": 20,
     "metadata": {},
     "output_type": "execute_result"
    }
   ],
   "source": [
    "nlp_qa(context='Hurricane Laura may reach extremely dangerous Category 4 strength before slamming into Louisiana and eastern Texas overnight and is expected to hit parts of the coast with \"unsurvivable storm surge,\" the National Hurricane Center says.',\n",
    "       question=\"Which Hurricane may reach Category 4?\")"
   ]
  },
  {
   "cell_type": "code",
   "execution_count": 21,
   "metadata": {},
   "outputs": [
    {
     "data": {
      "text/plain": [
       "{'score': 0.33432472175637024,\n",
       " 'start': 87,\n",
       " 'end': 114,\n",
       " 'answer': 'Louisiana and eastern Texas'}"
      ]
     },
     "execution_count": 21,
     "metadata": {},
     "output_type": "execute_result"
    }
   ],
   "source": [
    "nlp_qa(context='Hurricane Laura may reach extremely dangerous Category 4 strength before slamming into Louisiana and eastern Texas overnight and is expected to hit parts of the coast with \"unsurvivable storm surge,\" the National Hurricane Center says.',\n",
    "       question=\"Which states is Hurricane Laura going to affect?\")"
   ]
  },
  {
   "cell_type": "code",
   "execution_count": 22,
   "metadata": {},
   "outputs": [
    {
     "data": {
      "text/plain": [
       "{'score': 0.30196262668137847,\n",
       " 'start': 0,\n",
       " 'end': 20,\n",
       " 'answer': 'U.S. service members'}"
      ]
     },
     "execution_count": 22,
     "metadata": {},
     "output_type": "execute_result"
    }
   ],
   "source": [
    "nlp_qa(context='U.S. service members were injured after an altercation with Russian forces in northeast Syria this week, according to a draft military statement and a person familiar with the matter.',\n",
    "       question=\"Who was injured?\")"
   ]
  },
  {
   "cell_type": "code",
   "execution_count": null,
   "metadata": {},
   "outputs": [],
   "source": []
  }
 ],
 "metadata": {
  "kernelspec": {
   "display_name": "Python 3",
   "language": "python",
   "name": "python3"
  },
  "language_info": {
   "codemirror_mode": {
    "name": "ipython",
    "version": 3
   },
   "file_extension": ".py",
   "mimetype": "text/x-python",
   "name": "python",
   "nbconvert_exporter": "python",
   "pygments_lexer": "ipython3",
   "version": "3.7.7"
  }
 },
 "nbformat": 4,
 "nbformat_minor": 4
}
